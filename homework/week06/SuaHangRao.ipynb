{
  "nbformat": 4,
  "nbformat_minor": 0,
  "metadata": {
    "colab": {
      "name": "SuaHangRao.ipynb",
      "provenance": [],
      "collapsed_sections": [],
      "authorship_tag": "ABX9TyO/xy2dQTMZ+4apu1bxJofc",
      "include_colab_link": true
    },
    "kernelspec": {
      "name": "python3",
      "display_name": "Python 3"
    },
    "language_info": {
      "name": "python"
    }
  },
  "cells": [
    {
      "cell_type": "markdown",
      "metadata": {
        "id": "view-in-github",
        "colab_type": "text"
      },
      "source": [
        "<a href=\"https://colab.research.google.com/github/turkin501/CS112.K21.KHTN/blob/master/homework/week06/SuaHangRao.ipynb\" target=\"_parent\"><img src=\"https://colab.research.google.com/assets/colab-badge.svg\" alt=\"Open In Colab\"/></a>"
      ]
    },
    {
      "cell_type": "markdown",
      "metadata": {
        "id": "khFGviNNMzXx"
      },
      "source": [
        "### **Sửa hàng rào**\n",
        "Sau khi dựng xong nhà kho chứa cỏ, dì Poly quyết định dùng m tấm gỗ còn thừa gia cố hàng rào của vườn rau ngăn không cho gà vào phá và giao công việc này cho Tôm và Hấc Phin làm. Nhiệm vụ của hai cậu bé tội nghiệp là đóng thêm vào các tấm ván hàng rào để có hàng rào mới càng cao càng tốt. Nhìn vẽ mặt buồn thiu và lóng ngóng của 2 đứa Jim quyết định sẽ làm giúp. Hàng rào được ghép từ n tấm gỗ cùng độ rộng như nhau và bằng độ rộng của các tấm gỗ còn thừa, tấm thứ i có độ cao $a_i, i = 1 ÷ n$. Tôm và Hấc Phin chỉ phải xếp các tấm còn thừa lên xe ba gác để Jim kéo đi. Các tấm gỗ được xếp thành một chồng, tính từ trên xuống tấm thứ $j$ có độ dài $b_j, j = 1 ÷ m$. Jim kéo xe ba gác đi dọc theo hàng rào. Đến một tấm nào đó muốn gia cố Jim sẽ lấy một tấm gỗ từ xe đóng tiếp lên tấm gỗ trên hàng rào và độ cao mới của tấm này trên hàng rào sẽ là tổng độ cao của tấm cũ và tấm mới đóng thêm. Jim chỉ đóng thêm một tấm mới vào tấm cũ vì muốn đảm bảo độ chắc chắn của hàng rào. Jim có thể lấy tấm trên cùng ở xe hoặc vất ra khỏi xe một số tấm cho đến khi gặp tấm vừa ý. Người ta vẫn nói “Khôn đâu tới trẻ, khỏe đâu tới già!”  Jim đã đứng tuổi và không còn sức để xếp lại các tấm gỗ bị bỏ ra vào xe. Ngoài ra, Jim cũng khá mê tín nên không quay lại lấy những tấm đã loại.\n",
        "\n",
        "Hãy xác định độ cao lớn nhất có thể đạt được của hàng rào sau khi gia cố. Độ cao của hàng rào được tính bằng độ cao tấm gỗ thấp nhất trên hàng rào.\n",
        "\n",
        "**Dữ liệu:** Vào từ thiết bị nhập chuẩn:\n",
        "\n",
        "* Dòng đầu tiên chứa số nguyên $n (1 ≤ n ≤ 10^5)$,\n",
        "* Dòng thứ 2 chứa $n$ số nguyên $a_1, a_2, . . ., a_n (1 ≤ a_i ≤ 10^8, i = 1 ÷ n)$,\n",
        "* Dòng thứ 3 chứa số nguyên $m  (1 ≤ m ≤ 10^5)$,\n",
        "* Dòng cuối cùng chứ $m$ số nguyên $b_1, b_2, . . ., b_m (1 ≤ b_j ≤ 10^8, j = 1÷ m)$.\n",
        "Kết quả: Đưa ra thiết bị xuất chuẩn, dòng đầu tiên chứa 2 số nguyên $h$ và $k$ – độ cao lớn nhất có thể của hàng rào và số tấm gỗ đã được đóng thêm, mỗi dòng trong $k$ dòng tiếp theo chứa 2 số nguyên $x$ và $y$, trong đó $x$ – tấm gỗ trên hàng rào được đóng cao hơn, $y$ – tấm gỗ được dùng để đóng. Đưa ra phương án có các số hiệu tấm ván được chọn là nhỏ nhất nếu tồn tại nhiều cách đóng khác nhau.\n",
        "\n",
        "\n",
        "* Example: \n",
        "\n",
        "| Input  | Output |\n",
        "| --- | --- |\n",
        "|6|5 3|\n",
        "|2 5 4 1 7 5|1 2|\n",
        "|7|3 3|\n",
        "|2 3 1 3 2 4 6|4 6|"
      ]
    },
    {
      "cell_type": "markdown",
      "metadata": {
        "id": "n5Ei6VOv-Dsd"
      },
      "source": [
        "### **Decomposition**\n",
        "\n",
        "Cho 2 dãy $a$ có $n$ phần tử, dãy $b$ có $m$ phần tử. Tìm các cặp thỏa $a_i+b_j >= k$."
      ]
    },
    {
      "cell_type": "markdown",
      "metadata": {
        "id": "ei0It686_IYc"
      },
      "source": [
        "### **Pattern Recognition**\n",
        "\n",
        "- Dạng bài toán: Divide and conquer\n",
        "- Đặc điểm nhận dạng:\n",
        "\n",
        "  - Nhận thấy miền giá trị của bài toán (giá trị lớn nhất có thể của giá trị nhỏ nhất của dãy a) là (min(a), min(a) + max(b))\n",
        "\n",
        "  - Ta thấy nếu một giá trị k thuộc miền giá trị thỏa điều kiện bài toán thì những giá trị $<k$ luôn thỏa điều kiện đó, ngược lại những giá trị $>k$ sẽ không thỏa mãn, do đó ta có thể sử dụng tìm kiếm nhị phân thay vì tìm kiếm tuyến tính.\n",
        "\n"
      ]
    },
    {
      "cell_type": "markdown",
      "metadata": {
        "id": "AzJ2p1_z_m6F"
      },
      "source": [
        "\n",
        "###  **Abstraction**\n",
        "\n",
        "Tìm thứ tự kết hợp giữa 2 dãy a và b (theo thứ tự) sao cho phần tử nhỏ nhất trong dãy a khi kết hợp là lớn nhất có thể. "
      ]
    },
    {
      "cell_type": "markdown",
      "metadata": {
        "id": "tD4cqOZYAAHw"
      },
      "source": [
        "### **Algorithm Design**"
      ]
    },
    {
      "cell_type": "code",
      "metadata": {
        "id": "_KEAhgNuAFGo"
      },
      "source": [
        "import io, os, time\n",
        "\n",
        "input = io.BytesIO(os.read(0, os.fstat(0).st_size)).readline\n",
        "\n",
        "n = int(input())\n",
        "a = list(map(int,input().split()))\n",
        "\n",
        "m = int(input())\n",
        "b = list(map(int,input().split()))\n",
        "\n",
        "minA = min(a)\n",
        "maxB = max(b) \n",
        "max_mid = minA + maxB \n",
        "min_mid = minA\n",
        "l,r =1,10**10\n",
        "answer = 0\n",
        "\n",
        "\n",
        "def check(mid):\n",
        "    j = 0\n",
        "    for i in range(n):\n",
        "        if a[i] < mid:\n",
        "            flag = False\n",
        "            while j < m:\n",
        "                if b[j] + a[i] >= mid:\n",
        "                    flag = True\n",
        "                    j += 1\n",
        "                    break\n",
        "                j += 1\n",
        "            if flag == False:\n",
        "                return False\n",
        "    return True\n",
        "\n",
        "def find_mid():\n",
        "    left = min_mid\n",
        "    right = max_mid\n",
        "    while (left <= right):\n",
        "        mid = (left + right) //2\n",
        "        if (check(mid)):\n",
        "            left = mid + 1\n",
        "        else:\n",
        "            right = mid -1\n",
        "    return right\n",
        "\n",
        "def print_result(h):\n",
        "    j = 0\n",
        "    Result = []\n",
        "    for i in range(n):\n",
        "        if a[i] < h:\n",
        "            while j < m:\n",
        "                if b[j] + a[i] >= h:\n",
        "                    j += 1\n",
        "                    break\n",
        "                j+= 1\n",
        "            Result.append((i + 1, j))\n",
        "    print(h, len(Result))\n",
        "    for res in Result:\n",
        "        print(res[0], res[1])\n",
        "        \n",
        "print_result(find_mid())"
      ],
      "execution_count": null,
      "outputs": []
    }
  ]
}