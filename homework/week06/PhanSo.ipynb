{
  "nbformat": 4,
  "nbformat_minor": 0,
  "metadata": {
    "colab": {
      "name": "DoiMoi.ipynb",
      "provenance": [],
      "collapsed_sections": [],
      "toc_visible": true,
      "include_colab_link": true
    },
    "kernelspec": {
      "name": "python3",
      "display_name": "Python 3"
    },
    "language_info": {
      "name": "python"
    }
  },
  "cells": [
    {
      "cell_type": "markdown",
      "metadata": {
        "id": "view-in-github",
        "colab_type": "text"
      },
      "source": [
        "<a href=\"https://colab.research.google.com/github/turkin501/CS112.K21.KHTN/blob/master/homework/week06/PhanSo.ipynb\" target=\"_parent\"><img src=\"https://colab.research.google.com/assets/colab-badge.svg\" alt=\"Open In Colab\"/></a>"
      ]
    },
    {
      "cell_type": "markdown",
      "metadata": {
        "id": "Shsquda71zcX"
      },
      "source": [
        "#Phân Số\n",
        "**Đề bài** : Cho 2 phân số đúng và tối giản $\\frac{a}{b}$ ,  $\\frac{c}{d}$ . Mỗi phép biến đổi là tăng $a$ và $b$ lên 1, sau đó giản ước phân số nhận được.\n",
        "\n",
        "Hãy xác định sau bao nhiêu bước biến đổi từ phân số thứ nhất ban đầu nhận được phân số thứ 2 đã cho.\n",
        "\n",
        "**Dữ liệu:** Vào từ thiết bị nhập chuẩn gồm 4 dòng, mỗi dòng chứa 1 số nguyên $a, b, c, d, 0 < a < b ≤ 10^5, 0 < c < d ≤ 10^5$, $a$ và $b$ nguyên tố cùng nhau, $c$ và $d$ nguyên tố cùng nhau\n",
        "\n",
        "**Kết quả:** Đưa ra thiết bị xuất chuẩn một số nguyên – số ngày tính được."
      ]
    },
    {
      "cell_type": "markdown",
      "metadata": {
        "id": "B0DBval410HD"
      },
      "source": [
        "###**Abstraction**\n",
        "Cho 2 phân số tối giản $a/b$ và $c/d$, mỗi bước tăng **a** và **b** thêm 1 đơn vị rồi tối giản phân số nhận được. Tìm số bước để đạt được phân số thứ 2"
      ]
    },
    {
      "cell_type": "markdown",
      "metadata": {
        "id": "HIZ0jIx410Or"
      },
      "source": [
        "###**Decomposition**\n",
        "Biến đổi tới khi nào nhận được phân số lớn hơn hoặc bằng phân số thứ hai thì dừng."
      ]
    },
    {
      "cell_type": "markdown",
      "metadata": {
        "id": "p3vDB7WX10Uj"
      },
      "source": [
        "### **Patter recognition**\n",
        ">> Thực hiện vòng lập biến đổi phân số thứ nhất tới khi nhận được phân số lớn hơn hoặc bằng phân số thứ hai.<br>\n",
        ">> Ta xét xem phân số mới này có bằng phân số thứ hai hay không, nếu có ta sẽ xuất ra số bước chạy vòng lập trên.<br>\n",
        ">> Nếu điều kiện trên không thỏa, xuất ra giá trị -1 ( có nghĩa là không biến đổi được thành phân số thứ hai)"
      ]
    },
    {
      "cell_type": "markdown",
      "metadata": {
        "id": "pBBtJfZX9rPg"
      },
      "source": [
        "###**Algorithm Design**\n"
      ]
    },
    {
      "cell_type": "code",
      "metadata": {
        "id": "rQ_Uquccz-yc",
        "outputId": "fbe38d55-cec5-4c82-a0c7-5f9cb47d692a",
        "colab": {
          "base_uri": "https://localhost:8080/"
        }
      },
      "source": [
        "import math\n",
        "\n",
        "def rutgon(a, b):\n",
        "    uc = math.gcd(a, b)\n",
        "    a = a//uc\n",
        "    b = b//uc\n",
        "    return a,b\n",
        "\n",
        "if __name__ == '__main__':\n",
        "    a, b, c, d = [int(x) for x in input().split()]\n",
        "\n",
        "    dem = 0\n",
        "    while not(a == c and b == d):\n",
        "        if a*d>c*b:\n",
        "            dem = 0\n",
        "            break\n",
        "        a+=1; b+=1; dem+=1\n",
        "        a, b = rutgon(a,b)\n",
        "        if dem > 1000000:\n",
        "                break\n",
        "    if dem > 1000000:\n",
        "        print(0)\n",
        "    else:\n",
        "        print(dem)"
      ],
      "execution_count": 4,
      "outputs": [
        {
          "output_type": "stream",
          "text": [
            "1 6 2 3\n",
            "5\n"
          ],
          "name": "stdout"
        }
      ]
    }
  ]
}