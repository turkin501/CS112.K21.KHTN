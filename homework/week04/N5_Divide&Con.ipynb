{
  "nbformat": 4,
  "nbformat_minor": 0,
  "metadata": {
    "colab": {
      "name": "N5_Divide&Con.ipynb",
      "provenance": [],
      "collapsed_sections": [],
      "include_colab_link": true
    },
    "kernelspec": {
      "name": "python3",
      "display_name": "Python 3"
    },
    "language_info": {
      "name": "python"
    }
  },
  "cells": [
    {
      "cell_type": "markdown",
      "metadata": {
        "id": "view-in-github",
        "colab_type": "text"
      },
      "source": [
        "<a href=\"https://colab.research.google.com/github/turkin501/CS112.K21.KHTN/blob/master/homework/week04/N5_Divide%26Con.ipynb\" target=\"_parent\"><img src=\"https://colab.research.google.com/assets/colab-badge.svg\" alt=\"Open In Colab\"/></a>"
      ]
    },
    {
      "cell_type": "markdown",
      "metadata": {
        "id": "fnvqVI72tSwK"
      },
      "source": [
        "# 1. Mã nguồn"
      ]
    },
    {
      "cell_type": "code",
      "metadata": {
        "id": "QN8n4JvmtSwL",
        "colab": {
          "base_uri": "https://localhost:8080/"
        },
        "outputId": "b5732f04-f744-44c4-faa2-883a7ce8ce16"
      },
      "source": [
        "import random \n",
        "\n",
        "def find_max_pos(arr):\n",
        "    n=len(arr)\n",
        "    if n==1:\n",
        "        return 0\n",
        "    if n==2:\n",
        "        return 0 if arr[0]>arr[1] else 1\n",
        "    \n",
        "    mid=len(arr)//2\n",
        "    #print(mid)\n",
        "    left=arr[0:mid]\n",
        "    #print(left)\n",
        "    right=arr[mid:len(arr)]\n",
        "    #print(right)\n",
        "\n",
        "    A=find_max_pos(left)\n",
        "    B=find_max_pos(right) + mid\n",
        "\n",
        "    return A if arr[A] > arr[B] else B\n",
        "\n",
        "a = []\n",
        "for i in range(4): \n",
        "   a.append(random.randint(1,100))\n",
        "  \n",
        "print(a)  \n",
        "print(find_max_pos(a)+1)\n",
        "\n"
      ],
      "execution_count": null,
      "outputs": [
        {
          "output_type": "stream",
          "text": [
            "[15, 14, 9, 27]\n",
            "2\n",
            "4\n"
          ],
          "name": "stdout"
        }
      ]
    },
    {
      "cell_type": "markdown",
      "metadata": {
        "id": "1apLHyzBgJ_t"
      },
      "source": [
        "# 2. Giải recurrence relation của bài toán\n",
        "\n",
        "$T(n) = 2T(n/2) + n$\n",
        "\n",
        "$T(n) = O(nlogn)$"
      ]
    },
    {
      "cell_type": "markdown",
      "metadata": {
        "id": "cLZGoz-qhYMU"
      },
      "source": [
        "# 3. So sánh với thuật toán Brute Force\n",
        "Ưu điểm:\n",
        "+ Thời gian xử lý nhanh hơn \n",
        "\n",
        "Nhược điểm:\n",
        "+ Tốn bộ nhớ hơn\n"
      ]
    }
  ]
}