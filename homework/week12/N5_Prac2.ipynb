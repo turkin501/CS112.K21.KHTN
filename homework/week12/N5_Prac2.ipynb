{
  "nbformat": 4,
  "nbformat_minor": 0,
  "metadata": {
    "colab": {
      "name": "N5_Prac2.ipynb",
      "provenance": [],
      "collapsed_sections": [],
      "authorship_tag": "ABX9TyO5UGuQQdcvhgZnNIYtV7si",
      "include_colab_link": true
    },
    "kernelspec": {
      "name": "python3",
      "display_name": "Python 3"
    },
    "language_info": {
      "name": "python"
    }
  },
  "cells": [
    {
      "cell_type": "markdown",
      "metadata": {
        "id": "view-in-github",
        "colab_type": "text"
      },
      "source": [
        "<a href=\"https://colab.research.google.com/github/turkin501/CS112.K21.KHTN/blob/master/homework/week12/N5_Prac2.ipynb\" target=\"_parent\"><img src=\"https://colab.research.google.com/assets/colab-badge.svg\" alt=\"Open In Colab\"/></a>"
      ]
    },
    {
      "cell_type": "markdown",
      "metadata": {
        "id": "8AvI3Ou6BHdQ"
      },
      "source": [
        "## Abstraction:\n",
        "\n",
        "Tìm số thành phần liên thông của các node có giá trị 1 trong đồ thị."
      ]
    },
    {
      "cell_type": "markdown",
      "metadata": {
        "id": "f8iUsR14qqpg"
      },
      "source": [
        "## Pattern Recognition\n",
        "\n",
        "- Dùng DFS hoặc BFS để duyệt"
      ]
    },
    {
      "cell_type": "markdown",
      "metadata": {
        "id": "gs6zVSXeqyjK"
      },
      "source": [
        "## Algorithm Design\n",
        "\n",
        "- Duyệt từng phần tử, nếu phần tử đó có giá trị là 1 thì đây là 1 thành phần liên thông\n",
        "- Duyệt tiếp ra 8 phần tử xung quanh và đánh dấu đã duyệt"
      ]
    },
    {
      "cell_type": "code",
      "metadata": {
        "colab": {
          "base_uri": "https://localhost:8080/"
        },
        "id": "D3iy-hcKAb5k",
        "outputId": "e7b8a98c-2f17-402f-e25f-1064821a2d6d"
      },
      "source": [
        "xung_quanh_dong = [-1, -1, -1, 0, 0, 1, 1, 1]\n",
        "xung_quanh_cot = [-1, 0, 1, -1, 1, -1, 0, 1]\n",
        "\n",
        "def DFS(islandMatrixMap, dong, cot):\n",
        "    if dong < 0 or dong >= so_dong or cot < 0 or cot >= so_cot or islandMatrixMap[dong][cot] != 1:\n",
        "        return\n",
        "    islandMatrixMap[dong][cot] = 0 \n",
        "    for i in range(len(xung_quanh_dong)):\n",
        "        DFS(islandMatrixMap, dong + xung_quanh_dong[i], cot + xung_quanh_cot[i])\n",
        " \n",
        "def isLand(islandMatrixMap):\n",
        "    count = 0\n",
        "    for dong in range(so_dong):\n",
        "        for cot in range(so_cot):\n",
        "            if islandMatrixMap[dong][cot] == 1:\n",
        "                count += 1\n",
        "                DFS(islandMatrixMap, dong, cot)\n",
        "    return count\n",
        "\n",
        "so_dong, so_cot = map(int, input().split())\n",
        "islandMatrixMap = []\n",
        "for i in range(so_dong):\n",
        "    temp = list(map(int, input().split()))\n",
        "    islandMatrixMap.append(temp)\n",
        "print(isLand(islandMatrixMap))"
      ],
      "execution_count": 1,
      "outputs": [
        {
          "output_type": "stream",
          "text": [
            "5 5\n",
            "1 1 0 0 0\n",
            "0 1 0 0 1\n",
            "1 0 0 1 1\n",
            "0 0 0 0 0\n",
            "1 0 1 0 1\n",
            "5\n"
          ],
          "name": "stdout"
        }
      ]
    },
    {
      "cell_type": "markdown",
      "metadata": {
        "id": "uAo-PuCx9UPi"
      },
      "source": [
        "Độ phức tạp thuật toán: $O(nm)$ với n = so_dong, m = so_cot"
      ]
    }
  ]
}