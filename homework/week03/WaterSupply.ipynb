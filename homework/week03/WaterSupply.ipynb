{
  "nbformat": 4,
  "nbformat_minor": 0,
  "metadata": {
    "colab": {
      "name": "WaterSupply.ipynb",
      "provenance": [],
      "collapsed_sections": [],
      "include_colab_link": true
    },
    "kernelspec": {
      "name": "python3",
      "display_name": "Python 3"
    },
    "language_info": {
      "name": "python"
    }
  },
  "cells": [
    {
      "cell_type": "markdown",
      "metadata": {
        "id": "view-in-github",
        "colab_type": "text"
      },
      "source": [
        "<a href=\"https://colab.research.google.com/github/turkin501/CS112.K21.KHTN/blob/master/homework/week03/WaterSupply.ipynb\" target=\"_parent\"><img src=\"https://colab.research.google.com/assets/colab-badge.svg\" alt=\"Open In Colab\"/></a>"
      ]
    },
    {
      "cell_type": "markdown",
      "metadata": {
        "id": "iWlD5eKqS5UR"
      },
      "source": [
        "#**Water Supply** \n",
        "Vùng đất diệu kỳ Wonderland có N hộ gia đình đã được trang bị một hệ thống cung cấp nước sạch đến từng ngôi nhà. Mỗi đường ống nối trực tiếp 2 nhà, nước chảy trong đường ống theo 2 chiều, có thể truyền qua nhiều trung gian trước khi đến một nhà nào đó. Trong hồ sơ lưu trữ, các ngôi nhà được ghi số từ 1 đến N.\n",
        "\n",
        "Một trận động đất đã gây nên sự cố nghiêm trọng làm cho cả vùng bị chia cắt thành nhiều khu vực rời nhau, không còn tiếp cận được với nguồn nước. Để khắc phục, những người có trách nhiệm đã khảo sát hiện trạng và ghi nhận được toàn vùng đất đang thảm họa vẫn còn M đường ống đang hoạt động tốt.\n",
        "\n",
        "Nhiệm vụ đặt ra là phải khôi phục hệ thống cấp nước bằng cách lắp thêm một số đường ống. Tuy nhiên, do hạn chế về thời gian và kinh phí nên đòi hỏi phương án khôi phục phải được thực hiện với ít đường ống được lắp thêm nhất. Câu hỏi đặt ra: cần lắp thêm ít nhất bao nhiêu đường ống để hệ thống cấp nước có thể đưa nước đến từng ngôi nhà. Câu hỏi phụ: có bao nhiêu phương án khác nhau đáp ứng yêu cầu; số phương án có thể khá lớn nên chỉ cần đưa ra số dư khi chia cho $10^9+7$.\n",
        "\n",
        "Dữ liệu: Vào từ thiết bị nhập chuẩn:\n",
        "\n",
        "Dòng đầu tiên chứa 2 số nguyên $N, M$ ($1 ≤ N, M  ≤ 10^5$)\n",
        "\n",
        "Mỗi dòng trong M dòng tiếp theo chứa 2 số nguyên a, b ($1 ≤ a,  b ≤ N$). cho biết vẫn còn đường ống nối nhà a với nhà b\n",
        "\n",
        "Kết quả: Đưa ra thiết bị xuất chuẩn số đường ống cần được lắp thêm và số phương án đáp ứng yêu cầu (theo mô đun $10^9+7$) mỗi số trên một dòng."
      ]
    },
    {
      "cell_type": "markdown",
      "metadata": {
        "id": "1ijjJcRuS-Gd"
      },
      "source": [
        "###**Abstraction**\n",
        "\n",
        "Cho 1 đồ thị vô hướng gồm n đỉnh\n",
        "\n",
        "Tìm số cạnh ít nhất cần thêm vào để đồ thị trở thành liên thông\n",
        "Tìm số cách thêm cạnh với modun $10^9+7$\n"
      ]
    },
    {
      "cell_type": "markdown",
      "metadata": {
        "id": "HBenSWllTFF4"
      },
      "source": [
        "###**Pattern recognition**\n",
        "\n",
        "Bài toán yêu cầu đếm số cạnh cần thêm để đồ thị liên thông $\\rightarrow$ dạng bài toán tìm các thành phần liên thông trong đồ thị\n",
        "Đếm số cách thêm cạnh $\\rightarrow$ dạng bài toán số học, cụ thể là dạng phương pháp đếm\n"
      ]
    },
    {
      "cell_type": "markdown",
      "metadata": {
        "id": "SSji3K50TNSc"
      },
      "source": [
        "###**Algorithm Design**\n",
        "Giả sử đồ thị bao gồm k thành phần liên thông. Số lượng đỉnh của từng thành phần liên thông lần lượt là $b_1,b_2,...,b_k$\n",
        "\n",
        "*Số cạnh cần thiết cần thêm vào để đồ thị liên thông*\n",
        "\n",
        "Ta xem mỗi thành phần liên thông là 1 đỉnh thuộc 1 đồ thị mới. Khi đó số cạnh cần thêm vào chính là số cạnh của 1 cây khung. Với đồ thị mới gồm n đỉnh thì đáp án là k-1\n",
        "\n",
        "*Số cách thêm cạnh*\n",
        "\n",
        "Đây là 1 công thức ứng dụng của của Prüfer code.\n",
        "Công thức để tính số cách thêm cạnh là $n^{k-1}*b_1*b_2*...*b_k$\n",
        "\n",
        "***Pseudo code***\n",
        "\n",
        "      input -> n,m\n",
        "\n",
        "      input -> edges of the graph\n",
        "      \n",
        "      Use BFS or DFS to find the adjacent components\n",
        "      \n",
        "      output <- number of component - 1\n",
        "      \n",
        "      output <- $n^{k-1}*b_1*b_2*...*b_k$\n",
        "\n"
      ]
    },
    {
      "cell_type": "markdown",
      "metadata": {
        "id": "4yHYBWerWjX3"
      },
      "source": [
        "###**Algorithm**"
      ]
    },
    {
      "cell_type": "code",
      "metadata": {
        "id": "31Bq8oeFYjwj"
      },
      "source": [
        "import sys\n",
        "\n",
        "def bfs(u, a, tplt, cha, num_tplt):\n",
        "    q = [u]\n",
        "    while len(q) > 0:\n",
        "        u = q.pop(0)\n",
        "        tplt[num_tplt] += 1\n",
        "        for v in a[u]:\n",
        "            if cha[v] == 0:\n",
        "                cha[v] = 1\n",
        "                q.append(v)\n",
        "\n",
        "t = sys.stdin.readline().split()\n",
        "n,m = [int(x) for x in t[:2]]\n",
        "a = [[] for _ in range(n)]\n",
        "cha = [0 for _ in range(n)]\n",
        "tplt = [0 for _ in range(n)]\n",
        "\n",
        "for i in range(m):\n",
        "    t = sys.stdin.readline().split()\n",
        "    u,v = [int(x) for x in t]\n",
        "    if u < 1 or v < 1: continue\n",
        "    if u > n or v > n: continue\n",
        "    a[u-1].append(v-1)\n",
        "    a[v-1].append(u-1) \n",
        "\n",
        "num_tplt = 0\n",
        "for u in range(n):\n",
        "    if cha[u] == 0:\n",
        "        cha[u] = 1\n",
        "        # dfs(u, a, tplt, cha, num_tplt)\n",
        "        bfs(u, a, tplt, cha, num_tplt)\n",
        "        num_tplt += 1\n",
        "print(num_tplt - 1)\n",
        "    \n",
        "def mul(x, y):\n",
        "    if y == 0: return 1\n",
        "    t = mul(x, y//2)\n",
        "    t = (t * t)\n",
        "    if y % 2 == 0: \n",
        "        return t\n",
        "    return (t * x)\n",
        "        \n",
        "\n",
        "if (num_tplt == 1):\n",
        "    print(0)\n",
        "else:\n",
        "    res = 1\n",
        "    for x in tplt[:num_tplt]:\n",
        "    #  print(tplt[i])\n",
        "        res = res * x\n",
        "    res = (res * mul(n, num_tplt-2)) % (1000000007)\n",
        "    print(res)"
      ],
      "execution_count": null,
      "outputs": []
    }
  ]
}