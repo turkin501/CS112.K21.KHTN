{
  "nbformat": 4,
  "nbformat_minor": 0,
  "metadata": {
    "colab": {
      "name": "SoNguyenMoi.ipynb",
      "provenance": [],
      "authorship_tag": "ABX9TyOfl8snOtOioXYHuKUBcvIf",
      "include_colab_link": true
    },
    "kernelspec": {
      "name": "python3",
      "display_name": "Python 3"
    },
    "language_info": {
      "name": "python"
    }
  },
  "cells": [
    {
      "cell_type": "markdown",
      "metadata": {
        "id": "view-in-github",
        "colab_type": "text"
      },
      "source": [
        "<a href=\"https://colab.research.google.com/github/turkin501/CS112.K21.KHTN/blob/master/homework/week03/SoNguyenMoi.ipynb\" target=\"_parent\"><img src=\"https://colab.research.google.com/assets/colab-badge.svg\" alt=\"Open In Colab\"/></a>"
      ]
    },
    {
      "cell_type": "markdown",
      "metadata": {
        "id": "pvSzepL9SLb2"
      },
      "source": [
        "# **Số nguyên mới** \n",
        "\n",
        "## **Problem and Constraint**\n",
        "Cho số nguyên dương **_n_** có không quá 100 chữ số. Hãy xác định số nguyên lớn nhất **_m_** chia hết cho 3 và khác **_n_** ở đúng một chữ số.\n",
        "\n",
        "Ví dụ, ***n*** = 123 thì ***m*** sẽ là 723\n",
        "\n",
        "Dữ liệu: Vào từ thiết bị nhập chuẩn gồm một dòng chứa số nguyên ***n*** có không quá 100 chữ số và không chứa các số 0 không có nghĩa.\n",
        "\n",
        "Kết quả: Đưa ra thiết bị xuất chuẩn số nguyên ***m*** tìm được\n",
        "\n",
        "\n",
        "\n",
        "\n"
      ]
    },
    {
      "cell_type": "markdown",
      "metadata": {
        "id": "0be2mAqlOVgg"
      },
      "source": [
        "### **I.Decomposition**\n",
        "\n",
        "Khi tiếp cận bài toán này, ta sẽ nghĩ tới một số chú ý sau:\n",
        "- Để số mới là số lớn nhất và chia hết cho 3, ta sẽ thay đổi chữ số đầu tiên của ***n*** (nếu được). \n",
        "- Nếu không được, ta sẽ thay đổi chữ số tiếp theo (Nếu được) và tương tự.\n",
        "- Nếu đến chữ số cuối cùng của ***n*** vẫn không thay đổi được, ta sẽ trừ ***n*** một số ***r*** là số dư để thỏa điều kiện chia hết cho 3."
      ]
    },
    {
      "cell_type": "markdown",
      "metadata": {
        "id": "4sqenKmbPbWN"
      },
      "source": [
        "### **II.Abstraction**\n",
        "\n",
        "Cho số nguyên dương **_n_** có không quá 100 chữ số. Hãy xác định số nguyên lớn nhất **_m_** chia hết cho 3 và khác **_n_** ở đúng một chữ số."
      ]
    },
    {
      "cell_type": "markdown",
      "metadata": {
        "id": "KITj-dRlSmR8"
      },
      "source": [
        "### **III.Pattern recognition**\n",
        "\n",
        "Ta thực hiện vòng lặp duyệt các chữ số của **n** từ chữ số đầu tới khi có 1 chữ số được thay đổi.\n",
        "\n",
        "Nếu có thể thay đổi, ta dừng vòng lặp và xuất ra kết quả.\n",
        "\n",
        "Nếu đến chữ số cuối cùng mà chưa thay đổi, ta trừ chữ số cuối cùng đi **r**"
      ]
    },
    {
      "cell_type": "markdown",
      "metadata": {
        "id": "AvQasZxjXMnm"
      },
      "source": [
        "### **IV.Algorithm**"
      ]
    },
    {
      "cell_type": "code",
      "metadata": {
        "id": "lrVMSY3BXRzV"
      },
      "source": [
        ""
      ],
      "execution_count": null,
      "outputs": []
    }
  ]
}