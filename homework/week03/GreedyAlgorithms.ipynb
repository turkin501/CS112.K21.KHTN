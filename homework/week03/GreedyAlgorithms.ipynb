{
  "nbformat": 4,
  "nbformat_minor": 0,
  "metadata": {
    "colab": {
      "name": "N5.ipynb",
      "provenance": [],
      "collapsed_sections": [],
      "authorship_tag": "ABX9TyMDDnjkrj2L/lf19rjxyc+z",
      "include_colab_link": true
    },
    "kernelspec": {
      "name": "python3",
      "display_name": "Python 3"
    },
    "language_info": {
      "name": "python"
    }
  },
  "cells": [
    {
      "cell_type": "markdown",
      "metadata": {
        "id": "view-in-github",
        "colab_type": "text"
      },
      "source": [
        "<a href=\"https://colab.research.google.com/github/turkin501/CS112.K21.KHTN/blob/master/homework/week03/GreedyAlgorithms.ipynb\" target=\"_parent\"><img src=\"https://colab.research.google.com/assets/colab-badge.svg\" alt=\"Open In Colab\"/></a>"
      ]
    },
    {
      "cell_type": "markdown",
      "metadata": {
        "id": "LauJu7u7uj9A"
      },
      "source": [
        "**Câu 1:** Chứng minh bài toán tìm cây khung nhỏ nhất sử dụng thuật toán Prim có đặc điểm nhận dạng của thuật toán tham lam.\n",
        "- Tính chất lựa chọn tham lam: Mỗi đỉnh được chọn thêm vào mstSet theo cách tìm kiếm lựa chọn tối ưu địa phương ở mỗi bước đi với hy vọng tìm được tối ưu toàn cục.\n",
        "- Cấu trúc con tối ưu: cây khung tối ưu cuối cùng chứa lời giải tối ưu của những cây khung con."
      ]
    },
    {
      "cell_type": "markdown",
      "metadata": {
        "id": "oRZNWwiRxAFa"
      },
      "source": [
        "**Câu 2:** Chứng minh thuật toán tham lam áp dụng cho activity selection sẽ ra kết quả tối ưu (the correctness of greedy algorithms).\n",
        "\n",
        "Nếu như ta có mảng các hoạt động S = {1, 2, 3, …n} được sắp xếp theo thời gian hoàn thành. Thuật toán tham lam sẽ luôn chọn hoạt động 1.\n",
        "\n",
        "Giả sử ta có một thuật toán B chọn hoạt động đầu tiên không phải là 1, thì ta cũng sẽ có một thuật toán A có cùng số lượng phần tử có hoạt động đầu tiên là 1. \n",
        "\n",
        "Ta có: B[0] = k  => A = {B – k} $\\cup$ {1}"
      ]
    }
  ]
}