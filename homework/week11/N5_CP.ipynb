{
  "nbformat": 4,
  "nbformat_minor": 0,
  "metadata": {
    "colab": {
      "name": "N5_CP.ipynb",
      "provenance": [],
      "authorship_tag": "ABX9TyPTEd73QXOJqOKlxnSl9N4x",
      "include_colab_link": true
    },
    "kernelspec": {
      "name": "python3",
      "display_name": "Python 3"
    },
    "language_info": {
      "name": "python"
    }
  },
  "cells": [
    {
      "cell_type": "markdown",
      "metadata": {
        "id": "view-in-github",
        "colab_type": "text"
      },
      "source": [
        "<a href=\"https://colab.research.google.com/github/turkin501/CS112.K21.KHTN/blob/master/homework/week11/N5_CP.ipynb\" target=\"_parent\"><img src=\"https://colab.research.google.com/assets/colab-badge.svg\" alt=\"Open In Colab\"/></a>"
      ]
    },
    {
      "cell_type": "markdown",
      "metadata": {
        "id": "hKjc1GjXUqMl"
      },
      "source": [
        "## Abstraction\n",
        "\n",
        "Tìm 3 phần tử con trong mảng tạo thành tổng lớn nhất thỏa bất đẳng thức tam giác."
      ]
    },
    {
      "cell_type": "markdown",
      "metadata": {
        "id": "0fuPM9lxU3qq"
      },
      "source": [
        "##Pattern Recognition\n",
        "Thay vì duyệt tìm 3 phần tử rồi so sánh với nhau để thỏa bất đẳng thức tam giác, ta sắp xếp mảng lại theo thứ tự giảm dần ${a\\ge b \\ge c}$, từ đó ta cũng có được ${a + b > c}$ và ${a + c > b}$. Ta chỉ cần kiểm tra điều kiện ${b + c > a}$"
      ]
    },
    {
      "cell_type": "markdown",
      "metadata": {
        "id": "izIaR2rzVn_Y"
      },
      "source": [
        "##Algorithm Design\n",
        "\n",
        "- Dùng hàm sort có sẵn của python để sắp xếp giảm dần\n",
        "- a b c sẽ là 3 phần tử đầu của mảng\n",
        "- Duyệt từ $i = 0$-> $i = n-3$ : kiểm tra ${b + c > a}$\n",
        "- Nếu thỏa xuất bộ 3 đó, nếu không xuất -1"
      ]
    },
    {
      "cell_type": "code",
      "metadata": {
        "colab": {
          "base_uri": "https://localhost:8080/"
        },
        "id": "Ie0By0MlWhd_",
        "outputId": "6d40fa10-afeb-47a4-b886-d0b0c7fdebdc"
      },
      "source": [
        "def solve(sticks):\n",
        "    sticks = sorted(sticks, reverse = True)\n",
        "    for i in range(0, len(sticks) - 2):\n",
        "        if sticks[i] < sticks[i + 1] + sticks[i+2]:\n",
        "            return [sticks[i + 2], sticks[i + 1], sticks[i]]\n",
        "    return -1\n",
        "    \n",
        "n = int(input())\n",
        "sticks = list(map(int, input().split()))\n",
        "result = solve(sticks)\n",
        "print(result)"
      ],
      "execution_count": null,
      "outputs": [
        {
          "output_type": "stream",
          "text": [
            "10\n",
            "1 2 3 4 5 6 7 8 9 10\n",
            "[8, 9, 10]\n"
          ],
          "name": "stdout"
        }
      ]
    }
  ]
}