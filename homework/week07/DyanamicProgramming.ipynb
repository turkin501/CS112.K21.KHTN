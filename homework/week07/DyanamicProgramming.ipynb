{
  "nbformat": 4,
  "nbformat_minor": 0,
  "metadata": {
    "colab": {
      "name": "DyanamicProgramming.ipynb",
      "provenance": [],
      "collapsed_sections": [],
      "authorship_tag": "ABX9TyNvOXS5NVHSFtBnqTBso0Qg",
      "include_colab_link": true
    },
    "kernelspec": {
      "name": "python3",
      "display_name": "Python 3"
    },
    "language_info": {
      "name": "python"
    }
  },
  "cells": [
    {
      "cell_type": "markdown",
      "metadata": {
        "id": "view-in-github",
        "colab_type": "text"
      },
      "source": [
        "<a href=\"https://colab.research.google.com/github/turkin501/CS112.K21.KHTN/blob/master/homework/week07/DyanamicProgramming.ipynb\" target=\"_parent\"><img src=\"https://colab.research.google.com/assets/colab-badge.svg\" alt=\"Open In Colab\"/></a>"
      ]
    },
    {
      "cell_type": "markdown",
      "metadata": {
        "id": "GA-pK4_76Uwo"
      },
      "source": [
        "###Goldmine"
      ]
    },
    {
      "cell_type": "code",
      "metadata": {
        "colab": {
          "base_uri": "https://localhost:8080/"
        },
        "id": "AhJKHLdn7XEr",
        "outputId": "d6c93f2f-6539-4912-d224-c7be030bc5ed"
      },
      "source": [
        "MAX = 100\n",
        "def getMaxGold(gold, m, n):\n",
        "    goldTable = [[0 for i in range(n)]\n",
        "                        for j in range(m)]\n",
        " \n",
        "    for col in range(n-1, -1, -1):\n",
        "        for row in range(m):\n",
        "            # Gold collected on going to\n",
        "            # the cell on the rigth(->)\n",
        "            if (col == n-1):\n",
        "                right = 0\n",
        "            else:\n",
        "                right = goldTable[row][col+1]\n",
        "            # Gold collected on going to\n",
        "            # the cell to right up (/)\n",
        "            if (row == 0 or col == n-1):\n",
        "                right_up = 0\n",
        "            else:\n",
        "                right_up = goldTable[row-1][col+1]\n",
        "            # Gold collected on going to\n",
        "            # the cell to right down (\\)\n",
        "            if (row == m-1 or col == n-1):\n",
        "                right_down = 0\n",
        "            else:\n",
        "                right_down = goldTable[row+1][col+1]\n",
        "            # Max gold collected from taking\n",
        "            # either of the above 3 paths\n",
        "            goldTable[row][col] = gold[row][col] + max(right, right_up, right_down)                                                          \n",
        "    res = goldTable[0][0]\n",
        "    for i in range(1, m):\n",
        "        res = max(res, goldTable[i][0])\n",
        " \n",
        "    return res\n",
        "gold = [[1, 3, 1, 5],\n",
        "    [2, 2, 4, 1],\n",
        "    [5, 0, 2, 3],\n",
        "    [0, 6, 1, 2]]\n",
        " \n",
        "m = 4\n",
        "n = 4\n",
        " \n",
        "print(getMaxGold(gold, m, n))"
      ],
      "execution_count": 1,
      "outputs": [
        {
          "output_type": "stream",
          "text": [
            "16\n"
          ],
          "name": "stdout"
        }
      ]
    },
    {
      "cell_type": "markdown",
      "metadata": {
        "id": "vvqKAJ0e6Xye"
      },
      "source": [
        "###Best sum"
      ]
    },
    {
      "cell_type": "code",
      "metadata": {
        "colab": {
          "base_uri": "https://localhost:8080/"
        },
        "id": "bfgAxTK8Gfb-",
        "outputId": "8df6beef-e74e-4f60-8143-72a7e53c6d57"
      },
      "source": [
        "def BestSum(arr, Sum, memo = {}):\n",
        "    if Sum in memo:\n",
        "      return memo[Sum]\n",
        "    if Sum==0:\n",
        "      return []\n",
        "    if Sum<0:\n",
        "      return None\n",
        "    shortestSubSet = None\n",
        "    for i in arr:\n",
        "        subtraction = Sum - i\n",
        "        if BestSum(arr,subtraction) != None:\n",
        "            SubSet = [i]+BestSum(arr,subtraction)\n",
        "            if shortestSubSet == None or len(shortestSubSet) > len(SubSet):\n",
        "                shortestSubSet = SubSet\n",
        "    memo[sum] = shortestSubSet\n",
        "    return shortestSubSet\n",
        "arr = [1,2,3,5,7,9]\n",
        "sum =  4\n",
        "print(BestSum(arr, sum))\n"
      ],
      "execution_count": 28,
      "outputs": [
        {
          "output_type": "stream",
          "text": [
            "[1, 3]\n"
          ],
          "name": "stdout"
        }
      ]
    }
  ]
}