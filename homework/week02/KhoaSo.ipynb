{
  "nbformat": 4,
  "nbformat_minor": 0,
  "metadata": {
    "colab": {
      "name": "KhoaSo.ipynb",
      "provenance": [],
      "include_colab_link": true
    },
    "kernelspec": {
      "name": "python3",
      "display_name": "Python 3"
    },
    "language_info": {
      "name": "python"
    }
  },
  "cells": [
    {
      "cell_type": "markdown",
      "metadata": {
        "id": "view-in-github",
        "colab_type": "text"
      },
      "source": [
        "<a href=\"https://colab.research.google.com/github/turkin501/CS112.K21.KHTN/blob/master/homework/week02/KhoaSo.ipynb\" target=\"_parent\"><img src=\"https://colab.research.google.com/assets/colab-badge.svg\" alt=\"Open In Colab\"/></a>"
      ]
    },
    {
      "cell_type": "markdown",
      "metadata": {
        "id": "Nto7s2UYJ6UF"
      },
      "source": [
        "# **Khóa số**\n",
        "\n",
        "## **Problem and Constraint**\n",
        "Để tăng độ an toàn chống hiện tượng cướp ngân hàng ngày càng phổ biến người ta dùng khóa số với mã mở khóa đơn giản nhưng rất hiệu quả. Trên cửa ra vào hiển thị một xâu khá dài các ký tự số. Các chữ số có thể di chuyển đổi chỗ cho nhau hoặc bị xóa. Muốn mở khóa người ta phải di chuyển các chữ số và trong trường hợp cần thiết – xóa vài chữ số để nhận được xâu lớn nhất thỏa mãn điều kiện đã cài đặt. Điều kiện này được thay đổi thường xuyên. Hôm nay điều kiện đó là “Số nhận được phải chia hết cho $3$”. Số nhận được có thể bắt đầu bằng các chữ số $0$. Xâu “$000$” sẽ lớn hơn xâu “$00$”.\n",
        "\n",
        "Hãy xác định khóa mở cửa.\n",
        "\n",
        "Dữ liệu: Vào từ thiết bị nhập chuẩn gồm một xâu ký tự số có độ dài lớn hơn $2$ và không vượt quá $10^5$.\n",
        "\n",
        "Kết quả: Đưa ra thiết bị xuất chuẩn xâu khóa mở cửa.\n"
      ]
    },
    {
      "cell_type": "markdown",
      "metadata": {
        "id": "y6CLbaXAh6mm"
      },
      "source": [
        "\n",
        "### **I.Decomposition**\n"
      ]
    },
    {
      "cell_type": "markdown",
      "metadata": {
        "id": "LUXEVLcbh-ja"
      },
      "source": [
        "\n",
        "### **II. Abstraction**\n"
      ]
    },
    {
      "cell_type": "markdown",
      "metadata": {
        "id": "Tosf6IcYh_iz"
      },
      "source": [
        "\n",
        "### **III. Pattern Regconigtion**\n",
        "\n"
      ]
    },
    {
      "cell_type": "markdown",
      "metadata": {
        "id": "VCxxQ6rLiUdc"
      },
      "source": [
        "### **Algorithm Design**\n"
      ]
    },
    {
      "cell_type": "code",
      "metadata": {
        "colab": {
          "base_uri": "https://localhost:8080/"
        },
        "id": "GCy0PKhZYdZQ",
        "outputId": "e467b824-6ddb-4e2e-a79c-aa9946b48d49"
      },
      "source": [
        "n = input().strip()\n",
        "key = [x for x in n]\n",
        "#print(key)\n",
        "key.sort(reverse=True)\n",
        "#print(key)\n",
        "\n",
        "sum = 0 \n",
        "count = [0] * 10\n",
        "mod1 = [1,4,7]\n",
        "mod2 = [2,5,8]\n",
        "\n",
        "for i in key:\n",
        "    j = int(i)\n",
        "    sum += j\n",
        "    count[j] += 1\n",
        "  \n",
        "#print(sum)\n",
        "#print(count)\n",
        "\n",
        "if (sum % 3 == 1):\n",
        "    for mod in mod1:\n",
        "       if count[mod] > 0: \n",
        "          count[mod] -=1\n",
        "          break\n",
        "    else:\n",
        "      \n",
        "       counter = 2 \n",
        "       for mod in mod2:\n",
        "         if count[mod] >= 2:\n",
        "            count[mod] -=2\n",
        "            counter -= 2 \n",
        "         if count[mod] >=1 :\n",
        "            count[mod] -=1\n",
        "            counter -= 1\n",
        "         if counter == 0:\n",
        "            break\n",
        "\n",
        "if (sum % 3 == 2):\n",
        "    for mod in mod2:\n",
        "       if count[mod] > 0: \n",
        "          count[mod] -=1\n",
        "          break\n",
        "    else:\n",
        "       counter = 2 \n",
        "       for mod in mod1:\n",
        "         if count[mod] >= 2:\n",
        "            count[mod] -=2\n",
        "            counter -= 2 \n",
        "         if count[mod] >=1 :\n",
        "            count[mod] -=1\n",
        "            counter -= 1\n",
        "         if counter == 0:\n",
        "            break\n",
        "\n",
        "key = ''\n",
        "for i in range(10):\n",
        "    key += str(i) * count[i]\n",
        "print(key[::-1])"
      ],
      "execution_count": null,
      "outputs": [
        {
          "output_type": "stream",
          "text": [
            "105\n",
            "510\n"
          ],
          "name": "stdout"
        }
      ]
    },
    {
      "cell_type": "code",
      "metadata": {
        "id": "pai55y2MlXG1"
      },
      "source": [
        "n = str(input())\n",
        "key = [x for x in n]\n",
        "#print(key)\n",
        "key.sort(reverse=True)\n",
        "#print(key)\n",
        "\n",
        "sum = 0 \n",
        "count = [0] * 10\n",
        "mod1 = [1,4,7]\n",
        "mod2 = [2,5,8]\n",
        "\n",
        "for i in key:\n",
        "    j = int(i)\n",
        "    sum += j\n",
        "    count[j] += 1\n",
        "  \n",
        "#print(sum)\n",
        "#print(count)\n",
        "\n",
        "if (sum % 3 == 1):\n",
        "    #xoa 1 chu so (chia du 1 nho nhat hoac 2 chu so chia du 2 nho nhat)\n",
        "    for mod in mod1:\n",
        "       #xoa 1 chu so chia du 1\n",
        "       if count[mod] > 0: \n",
        "          count[mod] -=1\n",
        "          break\n",
        "    else:\n",
        "      #xoa 2 chu so chia du 2 nho nhat\n",
        "       counter = 2 #2 chu so\n",
        "       for mod in mod2:\n",
        "         if count[mod] >= 2:\n",
        "            count[mod] -=2\n",
        "            counter -= 2 \n",
        "         if count[mod] >=1 :\n",
        "            count[mod] -=1\n",
        "            counter -= 1\n",
        "         if counter == 0:\n",
        "            break\n",
        "\n",
        "if (sum % 3 == 2):\n",
        "    #xoa 1 chu so (chia du 2 nho nhat hoac 2 chu so chia du 1 nho nhat)\n",
        "    for mod in mod2:\n",
        "       #xoa 1 chu so chia du 2\n",
        "       if count[mod] > 0: \n",
        "          count[mod] -=1\n",
        "          break\n",
        "    else:\n",
        "      #xoa 2 chu so chia du 1 nho nhat\n",
        "       counter = 2 #2 chu so\n",
        "       for mod in mod1:\n",
        "         if count[mod] >= 2:\n",
        "            count[mod] -=2\n",
        "            counter -= 2 \n",
        "         if count[mod] >=1 :\n",
        "            count[mod] -=1\n",
        "            counter -= 1\n",
        "         if counter == 0:\n",
        "            break\n",
        "\n",
        "\n",
        "\n",
        "\n",
        "\n",
        "\n",
        "key = ''\n",
        "for i in range(10):\n",
        "    #print(key)\n",
        "    key += str(i) * count[i]\n",
        "\n",
        "print(key[::-1])"
      ],
      "execution_count": null,
      "outputs": []
    }
  ]
}