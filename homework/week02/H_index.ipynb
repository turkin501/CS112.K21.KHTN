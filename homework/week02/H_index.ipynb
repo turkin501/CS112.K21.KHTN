{
  "nbformat": 4,
  "nbformat_minor": 0,
  "metadata": {
    "colab": {
      "name": "H-index.ipynb",
      "provenance": [],
      "collapsed_sections": [],
      "include_colab_link": true
    },
    "kernelspec": {
      "display_name": "Python 3",
      "name": "python3"
    },
    "language_info": {
      "name": "python"
    }
  },
  "cells": [
    {
      "cell_type": "markdown",
      "metadata": {
        "id": "view-in-github",
        "colab_type": "text"
      },
      "source": [
        "<a href=\"https://colab.research.google.com/github/turkin501/CS112.K21.KHTN/blob/master/homework/week02/H_index.ipynb\" target=\"_parent\"><img src=\"https://colab.research.google.com/assets/colab-badge.svg\" alt=\"Open In Colab\"/></a>"
      ]
    },
    {
      "cell_type": "markdown",
      "metadata": {
        "id": "BPjibstuGYmO"
      },
      "source": [
        "# **H-Index**\n",
        "\n",
        "## **Problem and Constraint**\n",
        "Làm thế nào để đánh giá sự thành công của một nhà khoa học?  Dựa vào số bài báo được công bố hay dựa vào số lần một bài báo được trích dẫn tới ở công trình của những người khác? Cả hai tham số đó đều quan trọng.\n",
        "\n",
        "Một bài báo có điểm số trích dẫn là $c$ nếu nó được trích dẫn tới $c$ lần trong các công trình của những nhà khoa học khác. Một trong số các cách đánh giá sự thành công của một nhà khoa học là tính chỉ số ảnh hưởng H_Index dựa trên sự kết hợp giữa số lượng bài báo và chỉ số trích dẫn của các bài báo đó.\n",
        "\n",
        "Chỉ số H-Index của một nhà khoa học bằng $k$ lớn nhất nếu người đó có $k$ bài báo, mỗi bài có điểm số trích dẫn không nhỏ hơn $k$. Ví dụ, một người có 10 bài báo, mỗi bài báo được trích dẫn không dưới $10$ lần thì H-Index của người đó ít nhất là bằng $10$.\n",
        "\n",
        "Một người có $n$ bài báo, bài báo thứ $i$ có điểm trích dẫn là $c_i$, $i = 1 ÷ n$. Hãy xác định H-Index của người đó.\n",
        "\n",
        "Dữ liệu: Vào từ thiết bị nhập chuẩn:\n",
        "\n",
        "- Dòng đầu tiên chứa một số nguyên $n$ $(1 ≤ n ≤ 5×10^5)$\n",
        "- Dòng thứ 2 chứa $n$ số nguyên $c_1, c_2, . . ., c_n$ ($0 ≤ c_i ≤ 10^6$, $i = 1 ÷ n$).\n",
        "\n",
        "Kết quả: Đưa ra thiết bị xuất chuẩn một số nguyên – **H-Index** tìm được.\n",
        "\n",
        "Ví dụ: \n",
        "\n",
        "|Input | Output |\n",
        "| --- | ---|\n",
        "|5 | 4 |\n",
        "|8 5 3 4 10 | |"
      ]
    },
    {
      "cell_type": "markdown",
      "metadata": {
        "id": "y6CLbaXAh6mm"
      },
      "source": [
        "\n",
        "### **I.Decomposition**\n",
        "\n",
        "Cho mảng có $k$ phần tử, có giá trị là $c_i$. Tìm **H-index** thỏa mãn quy tắc:\n",
        "\n",
        "- **H_index** <= $k$ \n"
      ]
    },
    {
      "cell_type": "markdown",
      "metadata": {
        "id": "LUXEVLcbh-ja"
      },
      "source": [
        "\n",
        "### **II. Abstraction**\n"
      ]
    },
    {
      "cell_type": "markdown",
      "metadata": {
        "id": "Tosf6IcYh_iz"
      },
      "source": [
        "\n",
        "### **III. Pattern Regconigtion**\n",
        "\n"
      ]
    },
    {
      "cell_type": "markdown",
      "metadata": {
        "id": "uo4f9EnxiAr0"
      },
      "source": [
        "\n",
        "### **IV. Algorithm Design**"
      ]
    },
    {
      "cell_type": "code",
      "metadata": {
        "colab": {
          "base_uri": "https://localhost:8080/"
        },
        "id": "ef8te4AxG_fY",
        "outputId": "0632c5de-01ab-4eb6-9dd6-7dcdeadc918d"
      },
      "source": [
        "n = int(input())\n",
        "arr = [int(_) for _ in input().split()]\n",
        "\n",
        "arr.sort(reverse=True)\n",
        "maxx = n\n",
        "for i, x in enumerate(arr):\n",
        "    if x < i+1: \n",
        "        maxx=i\n",
        "        break\n",
        "        \n",
        "print(maxx)"
      ],
      "execution_count": null,
      "outputs": [
        {
          "output_type": "stream",
          "text": [
            "5\n",
            "8 5 3 4 10\n",
            "4\n"
          ],
          "name": "stdout"
        }
      ]
    }
  ]
}