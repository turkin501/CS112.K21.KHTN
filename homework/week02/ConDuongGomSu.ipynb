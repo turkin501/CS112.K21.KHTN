{
  "nbformat": 4,
  "nbformat_minor": 0,
  "metadata": {
    "colab": {
      "name": "ConDuongGomSu.ipynb",
      "provenance": [],
      "collapsed_sections": [],
      "toc_visible": true,
      "include_colab_link": true
    },
    "kernelspec": {
      "name": "python3",
      "display_name": "Python 3"
    },
    "language_info": {
      "name": "python"
    }
  },
  "cells": [
    {
      "cell_type": "markdown",
      "metadata": {
        "id": "view-in-github",
        "colab_type": "text"
      },
      "source": [
        "<a href=\"https://colab.research.google.com/github/turkin501/CS112.K21.KHTN/blob/master/homework/week02/ConDuongGomSu.ipynb\" target=\"_parent\"><img src=\"https://colab.research.google.com/assets/colab-badge.svg\" alt=\"Open In Colab\"/></a>"
      ]
    },
    {
      "cell_type": "markdown",
      "metadata": {
        "id": "lfrMwLi7kLgd"
      },
      "source": [
        "# **CON ĐƯỜNG GỐM SỨ**\n",
        "## **Problem and Constraint**\n",
        "\n",
        "Sau khi bê tông hóa đê chống lụt, thành phố quyết định cho khảm lên tường bê tông của đê tranh ghép tạo bởi các mảnh gốm sứ lấy từ các lò gốm nổi tiếng trong nước. Toàn bộ con đê được chia thành n phần có độ rộng giống nhau, mỗi phần gọi là một lô. Mỗi bức tranh khảm trên đó đều phải có độ rộng giống nhau, tức là bao gồm một số như nhau các lô liên tiếp và toàn bộ tường phải được phủ kín tranh từ đầu đến cuối, mỗi lô phải được tạo màu chủ đạo (gọi là màu của lô) từ một loại gốm đặc trưng lấy từ một lò gốm nào đó trong nước, ví dụ gốm màu xanh Cô ban từ lò gốm Ánh Hồng Quảng Ninh, gốm da lươn – từ Bát Tràng Hà Nội, gốm mộc hồng nhạt – từ Biên Hòa Đồng Nai, . . . Các loại gốm này được đánh số từ 1 đến 50 000.\n",
        "\n",
        "Hướng dẫn viên du lịch giới thiệu với khách tham quan là có 2 nhóm nghệ nhân được giao việc tạo hình và khảm tranh. Với mỗi nhóm các bức tranh của đều được đặc trưng bởi dãy số ($c_1, c_2, . . ., c_k$), trong đó k là độ rộng của tranh, $c_i$ – màu của lô, $i = 1 ÷ k$, các bức tranh khác nhau có thể khác nhau ở trình tự xuất hiện màu của các lô, ví dụ với dãy số đặc trưng (2, 6, 2, 9), trình tự màu trong tranh có thể là (9, 2, 2, 6) hoặc (6, 9, 2, 2) nhưng không thể là (6, 9, 2, 3). Dãy đặc trưng của 2 nhóm là khác nhau, tức là không thể bằng phép hoán vị trình tự màu của lô để đưa một dãy về dãy kia. Các bức tranh được ghép với nhau rất hài hòa và khách tham quan không nhận biết được sự chuyển tiếp từ tranh này sang tranh khác. Tuy vậy nhiều khách tham quan vẫn muốn biết có bao nhiêu bức tranh đã tạo ra và trong đó số bức tranh của mỗi nhóm là bao nhiêu.\n",
        "\n",
        "Hãy xác định số lượng tranh có thể có và số lượng tranh mỗi nhóm đã làm. biết rằng nhóm nào cũng có tranh của mình.\n",
        "\n",
        "Dữ liệu:\n",
        "\n",
        "Dòng đầu tiên chứa một số nguyên n – số lượng lô của con đê ($2 ≤ n ≤ 10^5$),\n",
        "Dòng thứ 2 chứa n số nguyên $a_1, a_2, . . ., a_n$ – màu của các lô ($1 ≤ a_i ≤ 50 000$, $i = 1 ÷ n$).\n",
        "\n",
        "Kết quả:\n",
        "\n",
        "Dòng đầu tiên chứa số nguyên $m$ – số lượng phương án khác nhau chia con đường thành các bức tranh, nếu không có cách phân chia để đảm bảo phân biệt tranh của đúng 2 nhóm thì đưa ra số $-1$. Nếu có cách phân biệt thì ở mỗi dòng tiếp theo đưa ra 3 số nguyên k, p và q – độ rộng bức tranh, số tranh do nhóm 1 thực hiện và số tranh do nhóm 2 thực hiện, thông tin đưa ra theo thứ tự tăng dần của $k$ và ở mỗi dòng có $p ≥ q > 0$."
      ]
    },
    {
      "cell_type": "markdown",
      "metadata": {
        "id": "y6CLbaXAh6mm"
      },
      "source": [
        "\n",
        "### **I.Decomposition**\n",
        "\n",
        "Đề bài cho chúng ta một mảng lớn và yêu cầu phân biệt 2 loại mảng con được phân bố trong mảng cha và tìm số lượng của mỗi loại trong mảng cha đó.\n",
        "\n"
      ]
    },
    {
      "cell_type": "markdown",
      "metadata": {
        "id": "LUXEVLcbh-ja"
      },
      "source": [
        "\n",
        "### **II. Abstraction**\n",
        "\n",
        "Cho dãy $a$ đếm số cách chia dãy làm K dãy con với độ dài bằng nhau sao cho chỉ còn 2 loại dãy con khác tính chất nhau, 2 dãy con X, Y cùng tính chất khi và chỉ khi tồn tại hoán vị X sao cho bằng Y"
      ]
    },
    {
      "cell_type": "markdown",
      "metadata": {
        "id": "Tosf6IcYh_iz"
      },
      "source": [
        "\n",
        "### **III. Pattern Regconigtion**\n",
        "\n",
        "Với mỗi ước $k$ lớn hơn $1$ nhỏ hơn $n$ của số n, ta lấy từng đoạn có độ dài $k$ các phần tử con nằm trong $a$ và so sánh để nhận dạng đoạn con 1 hoặc 2, hoặc break nếu như nhận dạng được 1 đoạn con thứ 3 khác."
      ]
    },
    {
      "cell_type": "markdown",
      "metadata": {
        "id": "VCxxQ6rLiUdc"
      },
      "source": [
        "### **Algorithm Design**\n"
      ]
    },
    {
      "cell_type": "code",
      "metadata": {
        "id": "UWRv3BNSFI41",
        "colab": {
          "base_uri": "https://localhost:8080/"
        },
        "outputId": "686e9c2c-e671-4054-e64c-ce846ce38bb1"
      },
      "source": [
        "n = int(input())\n",
        "a = list(map(int, input().split()))\n",
        "divisors = []\n",
        "for i in range(n//2,0,-1):\n",
        "    if (n % i == 0): \n",
        "        uocs.append(i)\n",
        "\n",
        "ans = []\n",
        "def check(arr1,arr2):\n",
        "    if (len(arr1)!= 1):\n",
        "      arr1.sort()\n",
        "    if (len(arr2)!= 1):  \n",
        "      arr2.sort()\n",
        "    if (arr1==arr2):\n",
        "        return True\n",
        "    else:\n",
        "        return False\n",
        "\n",
        "for divisor in divisors:\n",
        "  k = int(n//divisor)\n",
        "  reg, w = [], [k]\n",
        "  for i in range(0,n,k):\n",
        "      a1 = a[0:k]\n",
        "      j = i + k\n",
        "      slice_arr = a[i:j]\n",
        "      slice_arr.sort() \n",
        "\n",
        "      if (slice_arr in reg):\n",
        "          if (check(a1,slice_arr)==True):\n",
        "              w[1] +=1\n",
        "          else:\n",
        "              w[2] +=1\n",
        "      else:\n",
        "           reg.append(slice_arr)\n",
        "           if (len(reg) > 2): \n",
        "               break\n",
        "           w.append(1)\n",
        "\n",
        "  if (len(reg) != 2) : \n",
        "      continue  \n",
        "  ans.append(w)\n",
        "\n",
        "if (len(ans) == 0):\n",
        "    print(-1)\n",
        "    exit()\n",
        "print(len(ans))\n",
        "for an in ans:\n",
        "    print(an[0],an[1],an[2])"
      ],
      "execution_count": 7,
      "outputs": [
        {
          "output_type": "stream",
          "text": [
            "9\n",
            "1 2 3 6 4 9 3 1 2\n",
            "1\n",
            "3 2 1\n"
          ],
          "name": "stdout"
        }
      ]
    }
  ]
}