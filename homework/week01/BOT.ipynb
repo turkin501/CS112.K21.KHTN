{
  "nbformat": 4,
  "nbformat_minor": 0,
  "metadata": {
    "colab": {
      "name": "BOT.ipynb",
      "provenance": [],
      "collapsed_sections": [],
      "toc_visible": true,
      "include_colab_link": true
    },
    "kernelspec": {
      "name": "python3",
      "display_name": "Python 3"
    },
    "language_info": {
      "name": "python"
    }
  },
  "cells": [
    {
      "cell_type": "markdown",
      "metadata": {
        "id": "view-in-github",
        "colab_type": "text"
      },
      "source": [
        "<a href=\"https://colab.research.google.com/github/turkin501/CS112.K21.KHTN/blob/master/homework/week01/BOT.ipynb\" target=\"_parent\"><img src=\"https://colab.research.google.com/assets/colab-badge.svg\" alt=\"Open In Colab\"/></a>"
      ]
    },
    {
      "cell_type": "markdown",
      "metadata": {
        "id": "pvSzepL9SLb2"
      },
      "source": [
        "# **Built-Operation-Transfer**\n",
        "\n",
        "## **Problem and Constraint**\n",
        "BOT (Built-Operation-Transfer, có nghĩa: Xây dựng-Vận hành-Chuyển giao) là hình thức Chính phủ kêu gọi các công ty bỏ vốn xây dựng trước (Built) thông qua đấu thầu, sau đó khai thác vận hành một thời gian (Operation) và sau cùng là chuyển giao (Transfer) lại cho nhà nước sở tại.\n",
        "\n",
        "Đường cao tốc xuyên quốc gia được xây dựng theo hình thức BOT. Công ty Đa quốc gia Modern Highway trúng thầu, chia toàn bộ con đường thành n đoạn. Theo tính toán của Công ty sau khi chuyển giao con đường cho chính phủ sở tại quản lý thì lãi thu được ở đoạn đường thứ i là ai, ai có thể dương, âm hoặc bằng 0, tức là với từng đoạn con có thể lãi, lỗ hoặc hòa vốn. Từng nhóm các đoạn đường liên tiếp nhau (gọi tắt là khoảng) được chia cho các công ty con thực hiện. Công ty con ASEAM Highway hiện đang có trụ sở ở nước sở tại được quyền chọn trước khoảng tùy ý (có thể là cả con đường).\n",
        "\n",
        "Dĩ nhiên Ban Giám đốc ASEAM Highway muốn chọn khoảng bắt đầu từ đoạn p đến hết đoạn q mang lại lợi nhuận cao nhất hoặc lỗ ít nhất nếu không có khoảng nào cho lãi.\n",
        "\n",
        "Hãy chỉ ra khoảng cần chọn và lãi thu được. Nếu có nhiều cách chọn thì chỉ ra cách chọn có p nhỏ nhất.\n",
        "\n",
        "Dữ liệu: Vào từ thiết bị nhập chuẩn:\n",
        "\n",
        "Dòng đầu tiên chứa số nguyên $n (1 ≤ n ≤ 10^6)$,\n",
        "Dòng thứ 2 chứa n số nguyên $a_1, a_2, . . ., a_n (0 ≤ |a_i| ≤ 10^9, i = 1 ÷ n)$.\n",
        "Kết quả: Đưa ra thiết bị xuất chuẩn trên một dòng 2 số nguyên $p, q$ và *lãi thu được*.\n",
        "\n",
        "\n",
        "\n",
        "\n",
        "\n",
        "\n",
        "\n",
        "\n"
      ]
    },
    {
      "cell_type": "markdown",
      "metadata": {
        "id": "sa7-y9S0YMYU"
      },
      "source": [
        "### **I. Decomposition**\n",
        "\n",
        "Đề bài cho chúng ta một mảng $a$ và số lượng phần tử $n$ của mảng đó và yêu cầu tìm ra 2 số nguyên $p,q$ sao cho tổng giá trị $S$ bằng tổng giá trị các phần tử có thứ tự từ $p$ đến $q$ của mảng $a$ là lớn nhất.\n"
      ]
    },
    {
      "cell_type": "markdown",
      "metadata": {
        "id": "r81VDvu3YKRb"
      },
      "source": [
        "### **II. Abstraction**\n",
        "\n",
        "Cho mảng $a$, tìm $p,q$ sao cho $S(p,q) =$ $\\displaystyle\\sum_{i=p}^q a(i)$ đạt giá trị lớn nhất"
      ]
    },
    {
      "cell_type": "markdown",
      "metadata": {
        "id": "B49B3QjmYIxE"
      },
      "source": [
        "### **III. Pattern Regconigtion**\n",
        "\n",
        "Thoạt đầu, yêu cầu của đề bài làm ta liên tưởng đến bài toán quy hoạch động điển hình: \n",
        "\n",
        "Cho một dãy số, tìm dãy không giảm có tổng giá trị lớn nhất.\n",
        "\n",
        "Tuy nhiên, bài toán có điểm đặc biệt nằm ở chỗ, các phần tử của mảng con trích từ mảng gốc là liên tục không tách rời. Từ mấu chốt quan trọng này, ta cải thiện thuật toán đơn giản hơn đi gấp nhiều lần.\n",
        "\n",
        "Cụ thể ta có: $$S(i,j) = \\begin{array}\\\\S(1,j)-S(1,i) & (i<j) \\end{array}$$"
      ]
    },
    {
      "cell_type": "markdown",
      "metadata": {
        "id": "Md28cbumYERK"
      },
      "source": [
        "### **IV. Algorithm Design**"
      ]
    },
    {
      "cell_type": "code",
      "metadata": {
        "id": "aK-9z-qgzg17",
        "colab": {
          "base_uri": "https://localhost:8080/"
        },
        "outputId": "61d39b8f-e8be-4077-d436-021f3b52f596"
      },
      "source": [
        "\n",
        "a = int(input())\n",
        "b = [int(i) for i in input().split()]\n",
        "\n",
        "min, test, result, left, pos_i, pos_j = 0,0,0,-1,-1,-1\n",
        "\n",
        "c = []\n",
        "temp = 0\n",
        "for i in range(0,a):\n",
        "    temp += b[i]\n",
        "    c.append(temp)\n",
        "\n",
        "for i in range(0,a):\n",
        "    test = c[i]\n",
        "    if (test < min):\n",
        "       min = test\n",
        "       left = i\n",
        "    if (test - min > result):\n",
        "       result = test - min\n",
        "       pos_i = left\n",
        "       pos_j = i\n",
        "       \n",
        "print(pos_i+2,pos_j+1,result)"
      ],
      "execution_count": null,
      "outputs": [
        {
          "output_type": "stream",
          "text": [
            "16\n",
            "2 -4 5 -8 4 -1 -1 1 1 1 -2 2 4 -6 9 -4\n",
            "[2, -2, 3, -5, -1, -2, -3, -2, -1, 0, -2, 0, 4, -2, 7, 3]\n",
            "5 15 12\n"
          ],
          "name": "stdout"
        }
      ]
    }
  ]
}