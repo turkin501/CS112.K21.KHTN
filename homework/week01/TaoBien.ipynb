{
  "nbformat": 4,
  "nbformat_minor": 0,
  "metadata": {
    "colab": {
      "name": "TaoBien.ipynb",
      "provenance": [],
      "collapsed_sections": [],
      "include_colab_link": true
    },
    "kernelspec": {
      "name": "python3",
      "display_name": "Python 3"
    },
    "language_info": {
      "name": "python"
    }
  },
  "cells": [
    {
      "cell_type": "markdown",
      "metadata": {
        "id": "view-in-github",
        "colab_type": "text"
      },
      "source": [
        "<a href=\"https://colab.research.google.com/github/turkin501/CS112.K21.KHTN/blob/master/homework/week01/TaoBien.ipynb\" target=\"_parent\"><img src=\"https://colab.research.google.com/assets/colab-badge.svg\" alt=\"Open In Colab\"/></a>"
      ]
    },
    {
      "cell_type": "markdown",
      "metadata": {
        "id": "pvSzepL9SLb2"
      },
      "source": [
        "# **Tảo biển** \n",
        "\n",
        "## **Problem and Constraint**\n",
        "Tảo biển sinh sản rất nhanh khi có môi trường thuận lợi với chúng và có những loài còn tiết ra môi trường những chất độc hại.\n",
        "\n",
        "Một loại tảo nâu trong môi trường nước bị ô nhiễm nặng sinh sản theo quy luật sau:\n",
        "\n",
        "Ngày đầu tiên (ngày $0$) có $n$ cá thể ở mức $1$,\n",
        "Ở mỗi ngày tiếp theo, mỗi cá thể mức $i$ sinh ra $i$ cá thể mức $1$, các cá thể mới sinh sẽ sinh sôi, phát triển từ ngày hôm sau.\n",
        "Bản thân các cá thể mức $i$ phát triển thành mức $i+1$ và chu kỳ phát triển trong ngày chấm dứt.\n",
        "Hãy xác định sau $k$ ngày trong nước biển có bao nhiêu cá thể.\n",
        "\n",
        "Dữ liệu: Vào từ thiết bị nhập chuẩn gồm một dòng chứa 2 số nguyên $n$ và $k$ $(1 ≤ n ≤ 1000, 1 ≤ k ≤ 10^{17})$.\n",
        "\n",
        "Kết quả: Đưa ra thiết bị xuất chuẩn một số nguyên – số lượng cá thể tảo theo mô đun $10^9 + 7$.\n",
        "\n",
        "\n",
        "\n",
        "\n"
      ]
    },
    {
      "cell_type": "markdown",
      "metadata": {
        "id": "fJoV-ZZaYn2j"
      },
      "source": [
        "### **I.Decomposition**\n",
        "\n",
        "Vì số lượng cá thể tảo phát triển một cách độc lập, nên ta có thể giải quyết bài toán theo hình thức đơn giản hơn bằng cách xem như số lượng tảo ban đầu là $1$ và nhân kết quả sau khi tính toán với $n$ để được kết quả cuối cùng của bài toán.\n",
        "\n",
        "Để dễ hình dung, các bạn có thể nhìn vào bảng sau:\n",
        "\n",
        "| Ngày\\Mức | k+1 | k | ... | 6 | 5 | 4  | 3  | 2   | 1   | Tổng số tảo biển |\n",
        "|----------|-----|---|-----|---|---|----|----|-----|-----|------------------|\n",
        "| $0$      |     |   |     |   |   |    |    |     | $n$ | $n$              |\n",
        "| $1$      |     |   |     |   |   |    |    | $n$ | $n$ | $2n$             |\n",
        "| $2$      |     |   |     |   |   |    | $n$| $n$ |$3n$ |$5n$              |\n",
        "| $3$     |     |   |     |   |   | $n$| $n$|$3n$ |$8n$ |$13n$             |\n",
        "| $4$      |     |   |     |   |$n$|$n$ |$3n$|$8n$ |$21n$|$34n$             |\n",
        "| $5$      |     |   |     |$n$|$n$|$3n$|$8n$|$21n$|$55n$|$89n$             |\n",
        "| $...$    |     |   |     |   |   |    |    |     |     |      $...$       |\n",
        "\n",
        "\n",
        "Để ý kết quả ta dễ dàng nhận thấy mối liên hệ với dãy số kinh điển Fibonacci $1$ $1$ $2$ $3$ $5$ $8$ $13$ $21$ $34$ $55$ $89...$ \n",
        "\n",
        "Dựa vào quan sát ta rút ra được nhận xét: \n",
        "\n",
        "Tổng số tảo biển sau $k$ ngày tương ứng với số Fibonacci thứ $2k$$+$$1$ \n",
        "$$g(k) = f(2k+1) \\times n$$ với \n",
        "- $g(k)$ là tổng số tảo ở ngày thứ $k$\n",
        "- $f(k)$ là số fibonacci thứ $k$\n",
        "- $n$ là số tảo biển ở ngày đầu tiên"
      ]
    },
    {
      "cell_type": "markdown",
      "metadata": {
        "id": "1-8iXp-7YjU-"
      },
      "source": [
        "### **II. Abstraction**\n",
        "\n",
        "Cho $k$ tìm số Fibonacci thứ $2k$$+$$1$\n",
        "\n"
      ]
    },
    {
      "cell_type": "markdown",
      "metadata": {
        "id": "D90VypT-Yhrl"
      },
      "source": [
        "### **III. Pattern Regconigtion**\n",
        "\n",
        "Xét $f(k)$ là số Fibonacci thứ $k$:\n",
        "$$f(1)=1$$\n",
        "$$f(2)=1$$\n",
        "$$f(k)=f(k-1)+f(k-2)$$\n",
        "\n",
        "Ta có thể dùng phương pháp nhân ma trận để giải quyết bài toán này, cụ thể:\n",
        "$$f(k-1)=f(k-1)+0f(k-2)$$\n",
        "$$f(k)=f(k-1)+f(k-2)$$\n",
        "Suy ra:\n",
        "$$\\begin{bmatrix}f(k-1)\\\\f(k)\\end{bmatrix} = \\begin{bmatrix}1 & 0\\\\1 & 1\\end{bmatrix}\\times\\begin{bmatrix}f(k-1)\\\\f(k-2)\\end{bmatrix}$$\n",
        "Suy ra:\n",
        "$$\\begin{bmatrix}f(k-1)\\\\f(k)\\end{bmatrix} = \\begin{bmatrix}1 & 0\\\\1 & 1\\end{bmatrix}^{k-2}\\times\\begin{bmatrix}f(2)\\\\f(1)\\end{bmatrix}$$\n",
        "\n",
        "\n"
      ]
    },
    {
      "cell_type": "markdown",
      "metadata": {
        "id": "qza-dPq8Yfvc"
      },
      "source": [
        "### **IV. Algorithm Design**"
      ]
    },
    {
      "cell_type": "code",
      "metadata": {
        "id": "NCZc5JZxor8Q",
        "colab": {
          "base_uri": "https://localhost:8080/"
        },
        "outputId": "2e06153c-edff-4722-bbfb-93b55da87556"
      },
      "source": [
        "m = 1000000007\n",
        "\n",
        "def matmul(a,b):\n",
        "    c = [[0, 0], [0, 0]]\n",
        "    c[0][0] = a[0][0]*b[0][0] + a[0][1]*b[1][0]\n",
        "    c[0][1] = a[0][0]*b[0][1] + a[0][1]*b[1][1]\n",
        "    c[1][0] = a[1][0]*b[0][0] + a[1][1]*b[1][0]\n",
        "    c[1][1] = a[1][0]*b[0][1] + a[1][1]*b[1][1]\n",
        "    return c\n",
        "def powm(a, k):\n",
        "    if k == 0:\n",
        "        return [[1,0],[0,1]]\n",
        "    t = powm(a, k//2)\n",
        "    t = matmul(t,t)\n",
        "    if (k % 2 == 0):\n",
        "        return t\n",
        "    return matmul(t,a)\n",
        "\n",
        "def sol(n,k):\n",
        "    if k == 0:\n",
        "        return n % m\n",
        "    k = 2*k + 1\n",
        "    a = [[1,1],[1,0]]\n",
        "    a = powm(a, k-2)\n",
        "    b = [[1,0],[1,0]]\n",
        "    a = matmul(a,b)\n",
        "    return a[0][0]*n % m\n",
        "\n",
        "\n",
        "n, k = [int(x) for x in input().split()]\n",
        "print(sol(n,k))"
      ],
      "execution_count": null,
      "outputs": [
        {
          "output_type": "stream",
          "text": [
            "3 2\n",
            "15\n"
          ],
          "name": "stdout"
        }
      ]
    }
  ]
}