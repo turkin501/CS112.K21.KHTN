{
  "nbformat": 4,
  "nbformat_minor": 0,
  "metadata": {
    "colab": {
      "name": "TaoBien.ipynb",
      "provenance": [],
      "collapsed_sections": [],
      "include_colab_link": true
    },
    "kernelspec": {
      "name": "python3",
      "display_name": "Python 3"
    },
    "language_info": {
      "name": "python"
    }
  },
  "cells": [
    {
      "cell_type": "markdown",
      "metadata": {
        "id": "view-in-github",
        "colab_type": "text"
      },
      "source": [
        "<a href=\"https://colab.research.google.com/github/turkin501/CS112.K21.KHTN/blob/master/homework/week01/TaoBien.ipynb\" target=\"_parent\"><img src=\"https://colab.research.google.com/assets/colab-badge.svg\" alt=\"Open In Colab\"/></a>"
      ]
    },
    {
      "cell_type": "markdown",
      "metadata": {
        "id": "pvSzepL9SLb2"
      },
      "source": [
        "# **Tảo biển** \n",
        "\n",
        "## **Problem and Constraint**\n",
        "Tảo biển sinh sản rất nhanh khi có môi trường thuận lợi với chúng và có những loài còn tiết ra môi trường những chất độc hại.\n",
        "\n",
        "Một loại tảo nâu trong môi trường nước bị ô nhiễm nặng sinh sản theo quy luật sau:\n",
        "\n",
        "Ngày đầu tiên (ngày $0$) có n cá thể ở mức $1$,\n",
        "Ở mỗi ngày tiếp theo, mỗi cá thể mức $i$ sinh ra $i$ cá thể mức $1$, các cá thể mới sinh sẽ sinh sôi, phát triển từ ngày hôm sau.\n",
        "Bản thân các cá thể mức $i$ phát triển thành mức $i+1$ và chu kỳ phát triển trong ngày chấm dứt.\n",
        "Hãy xác định sau $k$ ngày trong nước biển có bao nhiêu cá thể.\n",
        "\n",
        "Dữ liệu: Vào từ thiết bị nhập chuẩn gồm một dòng chứa 2 số nguyên $n$ và $k$ $(1 ≤ n ≤ 1000, 1 ≤ k ≤ 10^{17})$.\n",
        "\n",
        "Kết quả: Đưa ra thiết bị xuất chuẩn một số nguyên – số lượng cá thể  tảo theo mô đun $10^9 + 7$.\n",
        "\n",
        "### **I.Decomposition**\n",
        "\n",
        "\n",
        "\n",
        "### **II. Abstraction**\n",
        "**Input**: Số $n$ và số $k$\n",
        "\n",
        "**Output**: Số lượng $X$ số được sinh ra từ quy tắc sau $k$ lần.\n",
        "\n",
        "\n",
        "\n",
        "### **III. Pattern Regconigtion**\n",
        "\n",
        "\n",
        "\n",
        "### **IV. Algorithm Design**\n",
        "\n"
      ]
    },
    {
      "cell_type": "code",
      "metadata": {
        "id": "NCZc5JZxor8Q",
        "colab": {
          "base_uri": "https://localhost:8080/"
        },
        "outputId": "2e06153c-edff-4722-bbfb-93b55da87556"
      },
      "source": [
        "def matrixmulti(a,b):\n",
        "    res = [[0,0],[0,0]]\n",
        "    res[0][0] = a[0][0] * b[0][0] + a[0][1]* b[1][0]\n",
        "    res[0][1] = (a[0][0] * b[0][1] + a[0][1]* b[1][1])\n",
        "\n",
        "    res[1][0] = a[1][0] * b[0][0] + a[1][1]*b[1][0]\n",
        "    res[1][1] = ( a[1][0] * b[0][1]  + a[1][1]*b[1][1])\n",
        "    return res\n",
        "def expo(matrix,k):\n",
        "    if (k == 0) :\n",
        "       return [[1,0],[0,1]]\n",
        "    temp = expo(matrix,k//2)\n",
        "    temp = matrixmulti(temp,temp)\n",
        "    if k % 2 == 0 :\n",
        "      return temp\n",
        "    return matrixmulti(temp,matrix) \n",
        "def solution(n,k):\n",
        "    if k == 1:\n",
        "      return 2*n\n",
        "    if k == 2:\n",
        "      return 5*n\n",
        "    else:\n",
        "      matrixA = [[0,1],[-1,3]]\n",
        "      matrixA = expo(matrixA,k-2)\n",
        "      matrixB = [[2,0],[5,0]]\n",
        "      res = matrixmulti(matrixA,matrixB)\n",
        "      return res[1][0]*n %(10**9+7)\n",
        "\n",
        "\n",
        "\n",
        "\n",
        "n, k = map(int, input().split())\n",
        "print(solution(n,k))"
      ],
      "execution_count": 1,
      "outputs": [
        {
          "output_type": "stream",
          "text": [
            "3 2\n",
            "15\n"
          ],
          "name": "stdout"
        }
      ]
    }
  ]
}