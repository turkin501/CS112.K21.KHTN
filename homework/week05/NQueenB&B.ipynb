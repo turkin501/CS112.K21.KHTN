{
  "nbformat": 4,
  "nbformat_minor": 0,
  "metadata": {
    "colab": {
      "name": "NQueenB&B.ipynb",
      "provenance": [],
      "collapsed_sections": [],
      "authorship_tag": "ABX9TyOx8oheC9AIazNGji/sT9VM",
      "include_colab_link": true
    },
    "kernelspec": {
      "name": "python3",
      "display_name": "Python 3"
    },
    "language_info": {
      "name": "python"
    }
  },
  "cells": [
    {
      "cell_type": "markdown",
      "metadata": {
        "id": "view-in-github",
        "colab_type": "text"
      },
      "source": [
        "<a href=\"https://colab.research.google.com/github/turkin501/CS112.K21.KHTN/blob/master/homework/week05/NQueenB%26B.ipynb\" target=\"_parent\"><img src=\"https://colab.research.google.com/assets/colab-badge.svg\" alt=\"Open In Colab\"/></a>"
      ]
    },
    {
      "cell_type": "code",
      "metadata": {
        "colab": {
          "base_uri": "https://localhost:8080/"
        },
        "id": "gc9eDJVADb08",
        "outputId": "d203d434-cc16-42ea-b38e-41e9da0bdc36"
      },
      "source": [
        "\n",
        "N = 8\n",
        "\n",
        "def printSolution(board):\n",
        "    for i in range(N):\n",
        "        for j in range(N):\n",
        "            print(board[i][j], end = \" \")\n",
        "        print()\n",
        " \n",
        "\n",
        "def isSafe(row, col, slashCode, backslashCode,\n",
        "           rowLookup, slashCodeLookup,\n",
        "                       backslashCodeLookup):\n",
        "    if (slashCodeLookup[slashCode[row][col]] or\n",
        "        backslashCodeLookup[backslashCode[row][col]] or\n",
        "        rowLookup[row]):\n",
        "        return False\n",
        "    return True\n",
        " \n",
        "def solveNQueensUtil(board, col, slashCode, backslashCode,\n",
        "                     rowLookup, slashCodeLookup,\n",
        "                     backslashCodeLookup):\n",
        "    #BaseCase                     \n",
        "    if(col >= N):\n",
        "        return True\n",
        "    for i in range(N):\n",
        "        if(isSafe(i, col, slashCode, backslashCode,\n",
        "                  rowLookup, slashCodeLookup,\n",
        "                  backslashCodeLookup)):\n",
        "                     \n",
        "            board[i][col] = 1\n",
        "            rowLookup[i] = True\n",
        "            slashCodeLookup[slashCode[i][col]] = True\n",
        "            backslashCodeLookup[backslashCode[i][col]] = True\n",
        "             \n",
        "          #Recurse to Branch and Bound  \n",
        "            if(solveNQueensUtil(board, col + 1,\n",
        "                                slashCode, backslashCode,\n",
        "                                rowLookup, slashCodeLookup,\n",
        "                                backslashCodeLookup)):\n",
        "                return True\n",
        "          #Backtracking\n",
        "            board[i][col] = 0\n",
        "            rowLookup[i] = False\n",
        "            slashCodeLookup[slashCode[i][col]] = False\n",
        "            backslashCodeLookup[backslashCode[i][col]] = False\n",
        "    return False\n",
        "\n",
        "def solveNQueens():\n",
        "    board = [[0 for i in range(N)]\n",
        "                for j in range(N)]\n",
        "    slashCode = [[0 for i in range(N)]\n",
        "                    for j in range(N)]\n",
        "    backslashCode = [[0 for i in range(N)]\n",
        "                        for j in range(N)]\n",
        "     \n",
        "    rowLookup = [False] * N\n",
        "     \n",
        "    x = 2 * N - 1\n",
        "    slashCodeLookup = [False] * x\n",
        "    backslashCodeLookup = [False] * x\n",
        "     \n",
        "    for rr in range(N):\n",
        "        for cc in range(N):\n",
        "            slashCode[rr][cc] = rr + cc\n",
        "            backslashCode[rr][cc] = rr - cc + 7\n",
        "     \n",
        "    if(solveNQueensUtil(board, 0, slashCode, backslashCode,\n",
        "                        rowLookup, slashCodeLookup,\n",
        "                        backslashCodeLookup) == False):\n",
        "        print(\"Solution does not exist\")\n",
        "        return False\n",
        "         \n",
        "    printSolution(board)\n",
        "    return True\n",
        " \n",
        "solveNQueens()\n"
      ],
      "execution_count": null,
      "outputs": [
        {
          "output_type": "stream",
          "text": [
            "1 0 0 0 0 0 0 0 \n",
            "0 0 0 0 0 0 1 0 \n",
            "0 0 0 0 1 0 0 0 \n",
            "0 0 0 0 0 0 0 1 \n",
            "0 1 0 0 0 0 0 0 \n",
            "0 0 0 1 0 0 0 0 \n",
            "0 0 0 0 0 1 0 0 \n",
            "0 0 1 0 0 0 0 0 \n"
          ],
          "name": "stdout"
        },
        {
          "output_type": "execute_result",
          "data": {
            "text/plain": [
              "True"
            ]
          },
          "metadata": {
            "tags": []
          },
          "execution_count": 9
        }
      ]
    }
  ]
}