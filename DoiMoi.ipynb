{
  "nbformat": 4,
  "nbformat_minor": 0,
  "metadata": {
    "colab": {
      "name": "DoiMoi.ipynb",
      "provenance": [],
      "collapsed_sections": [],
      "authorship_tag": "ABX9TyO9h0Mit+1vPySEA8QmvdgJ",
      "include_colab_link": true
    },
    "kernelspec": {
      "name": "python3",
      "display_name": "Python 3"
    },
    "language_info": {
      "name": "python"
    }
  },
  "cells": [
    {
      "cell_type": "markdown",
      "metadata": {
        "id": "view-in-github",
        "colab_type": "text"
      },
      "source": [
        "<a href=\"https://colab.research.google.com/github/turkin501/CS112.K21.KHTN/blob/master/DoiMoi.ipynb\" target=\"_parent\"><img src=\"https://colab.research.google.com/assets/colab-badge.svg\" alt=\"Open In Colab\"/></a>"
      ]
    },
    {
      "cell_type": "markdown",
      "metadata": {
        "id": "Shsquda71zcX"
      },
      "source": [
        "#Đổi mới \n",
        "**Đề bài** : Thành phố quyết định chặt hạ hết n cây xanh hiện có trong thành phố để trồng chỉ một loại cây mới. Nhiệm vụ được giao cho Công ty Cây xanh thành phố. Do hạn chế về thiết bị Công ty chỉ tổ chức được 2 đội đốn hạ cây. Đội I hạ được a cây mỗi ngày, nhưng cứ mối ngày thứ k thì phải nghỉ để bảo dưỡng kỹ thuật, tức là đội I sẽ nghỉ vào các ngày $k, 2k, 3k,...$ Đội II hạ được b cây mỗi ngày, nhưng cứ mỗi ngày thứ m thì phải nghỉ để bảo dưỡng kỹ thuật, tức là đội II sẽ nghỉ vào các ngày $m, 2m, 3m,...$ Ở ngày nghỉ, số cây chặt hạ của đội sẽ là 0. Cả hai đội bắt đầu công việc vào cùng một ngày và làm việc song song với nhau.\n",
        "\n",
        "Công việc trồng cây mới sẽ bắt đầu sau khi toàn bộ cây cũ đã bị đốn hạ.\n",
        "\n",
        "Hãy xác định sau bao nhiêu ngày thì có thể bắt đầu việc trồng mới cây.\n",
        "\n",
        "Dữ liệu: Vào từ thiết bị nhập chuẩn gồm một dòng chứa 5 số nguyên $a, k, b, m$ và $n$ $(1 ≤ a, b ≤ 10^9, 2 ≤ k, m ≤ 10^{18}, 1 ≤ n ≤ 10^{18})$.\n",
        "\n",
        "Kết quả: Đưa ra thiết bị xuất chuẩn một số nguyên – số ngày tính được."
      ]
    },
    {
      "cell_type": "markdown",
      "metadata": {
        "id": "HIZ0jIx410Or"
      },
      "source": [
        "###**Decomposition**\n",
        "Mỗi $t$ lần, $x$ và $y$ tăng lần lượt $a$ và $b$ đơn vị, cứ mỗi $k$ và $m$ số lần tăng, đại lượng $x$ và $y$ giảm lần lượt $a$ và $b$ - hay nói cách khác là không tăng, sau ít nhất bao nhiêu lần thì $x+y \\geq n$?"
      ]
    },
    {
      "cell_type": "markdown",
      "metadata": {
        "id": "B0DBval410HD"
      },
      "source": [
        "###**Abstraction**\n",
        "Ta có hàm số sau : $$ t * (a+b) - a * (t//k) - b * (t//m) >= n $$ \n",
        "\n",
        "Tìm $t$ thỏa hàm số trên."
      ]
    },
    {
      "cell_type": "markdown",
      "metadata": {
        "id": "p3vDB7WX10Uj"
      },
      "source": [
        "### **Patter recognition**\n",
        "Nhận thấy t có thể nằm giữa l và r \n",
        "\n",
        "$$ l = \\frac{n}{a+b}  , r = \\frac{m*n}{b*(m-1)}  $$ với $k$ luôn bé hơn $m$ \n",
        "\n",
        "Tìm $t$ ở giữa 2 phần tử $l,r$ bằng cách tìm nhị phân"
      ]
    },
    {
      "cell_type": "markdown",
      "metadata": {
        "id": "pBBtJfZX9rPg"
      },
      "source": [
        "###**Algorithm Design**\n"
      ]
    },
    {
      "cell_type": "markdown",
      "metadata": {
        "id": "x8y9vPUrriwu"
      },
      "source": [
        "**Vét cạn:**"
      ]
    },
    {
      "cell_type": "code",
      "metadata": {
        "colab": {
          "base_uri": "https://localhost:8080/"
        },
        "id": "lNCZi41JleU6",
        "outputId": "7a2ab2b1-2a96-4f7f-b966-95acb45364ab"
      },
      "source": [
        "a, k, b, m, n = [int(t) for t in input().split() ] \n",
        "a, k, b, m = (a, k, b, m) if k <= m else (b, m, a, k)\n",
        "\n",
        "#print(a,k,b,m,n)\n",
        "count = 1\n",
        "while (n > 0):\n",
        "    n = (n - a) if count%k!=0 else n\n",
        "    n = (n - b) if count%m!=0 else n\n",
        "    count = count + 1 \n",
        "\n",
        "print(count-1)\n"
      ],
      "execution_count": null,
      "outputs": [
        {
          "output_type": "stream",
          "text": [
            "2 4 3 3 25\n",
            "3 3 2 4 25\n",
            "7\n"
          ],
          "name": "stdout"
        }
      ]
    },
    {
      "cell_type": "markdown",
      "metadata": {
        "id": "Rg58R84brqqe"
      },
      "source": [
        "**Toán**"
      ]
    },
    {
      "cell_type": "code",
      "metadata": {
        "colab": {
          "base_uri": "https://localhost:8080/"
        },
        "id": "SH8xBq8hmORO",
        "outputId": "1b67c84f-e5f0-4867-8832-75e6dd7167ff"
      },
      "source": [
        "from math import ceil\n",
        "a, k, b, m, n = [int(t) for t in input().split() ] \n",
        "a, k, b, m = (a, k, b, m) if k <= m else (b, m, a, k)\n",
        "\n",
        "l = ceil( n / (a+b))\n",
        "r = ceil( m*n/(b*(m-1)) )\n",
        "\n",
        "while l <= r:\n",
        "    t = (l + r) // 2\n",
        "    if t * (a+b) - a * (t//k) - b * (t//m) >= n:\n",
        "        res = t\n",
        "        r = t - 1\n",
        "    else:\n",
        "        l = t + 1\n",
        "\n",
        "print(res)"
      ],
      "execution_count": null,
      "outputs": [
        {
          "output_type": "stream",
          "text": [
            "2 4 3 3 25\n",
            "7\n"
          ],
          "name": "stdout"
        }
      ]
    }
  ]
}